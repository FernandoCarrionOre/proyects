{
 "cells": [
  {
   "cell_type": "markdown",
   "metadata": {},
   "source": [
    "# Tarea Calificada 3"
   ]
  },
  {
   "cell_type": "markdown",
   "metadata": {},
   "source": [
    "### Descomprimir y leer los archivos del folder comprimido `appendData.zip`"
   ]
  },
  {
   "cell_type": "code",
   "execution_count": 1,
   "metadata": {},
   "outputs": [],
   "source": [
    "import pandas as pd\n",
    "import zipfile\n",
    "import os\n",
    "\n",
    "# Descomprimir appendData.zip\n",
    "with zipfile.ZipFile('appendData.zip', 'r') as zip_ref:\n",
    "    zip_ref.extractall('appendData')\n",
    "\n",
    "# Listar archivos descomprimidos\n",
    "files = os.listdir('appendData')\n",
    "files"
   ]
  },
  {
   "cell_type": "markdown",
   "metadata": {},
   "source": [
    "### Leer y concatenar los archivos CSV descomprimidos"
   ]
  },
  {
   "cell_type": "code",
   "execution_count": 2,
   "metadata": {},
   "outputs": [],
   "source": [
    "# Leer y concatenar los archivos CSV descomprimidos\n",
    "dfs = []\n",
    "for file in files:\n",
    "    if file.endswith('.csv'):\n",
    "        df = pd.read_csv(f'appendData/{file}')\n",
    "        dfs.append(df)\n",
    "\n",
    "# Integrar los archivos en un solo DataFrame\n",
    "integrated_df = pd.concat(dfs, ignore_index=True)\n",
    "integrated_df.head()"
   ]
  },
  {
   "cell_type": "markdown",
   "metadata": {},
   "source": [
    "### Realizar un merge con el archivo `countryCODES.xlsx`"
   ]
  },
  {
   "cell_type": "code",
   "execution_count": 3,
   "metadata": {},
   "outputs": [],
   "source": [
    "# Leer el archivo countryCODES.xlsx\n",
    "country_codes_df = pd.read_excel('countryCODES.xlsx')\n",
    "\n",
    "# Merge de integrated_df con country_codes_df\n",
    "merged_df = pd.merge(integrated_df, country_codes_df, how='left', on='CountryCode')\n",
    "\n",
    "# Guardar el resultado del merge en un archivo CSV\n",
    "merged_df.to_csv('merged_data.csv', index=False)\n",
    "merged_df.head()"
   ]
  },
  {
   "cell_type": "markdown",
   "metadata": {},
   "source": [
    "### Generar un reporte mensual de fallecidos usando `fallecidosCOVID.csv`"
   ]
  },
  {
   "cell_type": "code",
   "execution_count": 4,
   "metadata": {},
   "outputs": [],
   "source": [
    "# Leer el archivo fallecidosCOVID.csv\n",
    "fallecidos_df = pd.read_csv('fallecidosCOVID.csv')\n",
    "\n",
    "# Convertir la columna de fecha a datetime\n",
    "fallecidos_df['date'] = pd.to_datetime(fallecidos_df['date'])\n",
    "\n",
    "# Extraer año y mes\n",
    "fallecidos_df['year_month'] = fallecidos_df['date'].dt.to_period('M')\n",
    "\n",
    "# Agrupar por año y mes y contar fallecidos\n",
    "monthly_report = fallecidos_df.groupby('year_month').size().reset_index(name='fallecidos')\n",
    "\n",
    "# Guardar el reporte mensual en un archivo CSV\n",
    "monthly_report.to_csv('monthly_report.csv', index=False)\n",
    "monthly_report"
   ]
  },
  {
   "cell_type": "markdown",
   "metadata": {},
   "source": [
    "### Generar un reporte mensual de fallecidos por tipo de muerte"
   ]
  },
  {
   "cell_type": "code",
   "execution_count": 5,
   "metadata": {},
   "outputs": [],
   "source": [
    "# Agrupar por año, mes y tipo de muerte\n",
    "monthly_report_by_type = fallecidos_df.groupby(['year_month', 'death_type']).size().unstack(fill_value=0).reset_index()\n",
    "\n",
    "# Guardar el reporte mensual por tipo de muerte en un archivo CSV\n",
    "monthly_report_by_type.to_csv('monthly_report_by_type.csv', index=False)\n",
    "monthly_report_by_type"
   ]
  }
 ],
 "metadata": {
  "kernelspec": {
   "display_name": "Python 3",
   "language": "python",
   "name": "python3"
  },
  "language_info": {
   "codemirror_mode": {
    "name": "ipython",
    "version": 3
   },
   "file_extension": ".py",
   "mimetype": "text/x-python",
   "name": "python",
   "nbconvert_exporter": "python",
   "pygments_lexer": "ipython3",
   "version": "3.8.10"
  }
 },
 "nbformat": 4,
 "nbformat_minor": 4
}
